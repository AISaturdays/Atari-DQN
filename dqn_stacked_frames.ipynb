{
 "cells": [
  {
   "cell_type": "code",
   "execution_count": 1,
   "metadata": {},
   "outputs": [],
   "source": [
    "%matplotlib inline"
   ]
  },
  {
   "cell_type": "code",
   "execution_count": 2,
   "metadata": {},
   "outputs": [
    {
     "name": "stdout",
     "output_type": "stream",
     "text": [
      "couldn't import doomish\n",
      "Couldn't import doom\n"
     ]
    }
   ],
   "source": [
    "#import gym modules\n",
    "import gym\n",
    "import gym_ple\n",
    "from gym.wrappers import Monitor\n",
    "import pygame"
   ]
  },
  {
   "cell_type": "code",
   "execution_count": 3,
   "metadata": {},
   "outputs": [],
   "source": [
    "# import pytorch modules\n",
    "import torch\n",
    "import torch.nn as nn\n",
    "import torch.nn.functional as F\n",
    "import torch.optim as optim\n",
    "\n",
    "import torchvision\n",
    "import torchvision.transforms as T\n",
    "\n",
    "from torch.autograd import Variable"
   ]
  },
  {
   "cell_type": "code",
   "execution_count": 4,
   "metadata": {},
   "outputs": [],
   "source": [
    "# import time to slow down rendering speed\n",
    "import time\n",
    "import random\n",
    "import math\n",
    "import matplotlib.pyplot as plt\n",
    "import numpy as np\n",
    "from collections import namedtuple\n",
    "from itertools import count"
   ]
  },
  {
   "cell_type": "code",
   "execution_count": null,
   "metadata": {},
   "outputs": [],
   "source": [
    "a = 0"
   ]
  },
  {
   "cell_type": "code",
   "execution_count": null,
   "metadata": {},
   "outputs": [],
   "source": [
    "if a != 0:\n",
    "    a = torch.cat(torch.zeros[1,1,1])\n",
    "else:\n",
    "    a = torch.ones([1,1,1])"
   ]
  },
  {
   "cell_type": "code",
   "execution_count": 5,
   "metadata": {},
   "outputs": [],
   "source": [
    "use_cuda = torch.cuda.is_available()\n",
    "FloatTensor = torch.cuda.FloatTensor if use_cuda else torch.FloatTensor\n",
    "LongTensor = torch.cuda.LongTensor if use_cuda else torch.LongTensor\n",
    "ByteTensor = torch.cuda.ByteTensor if use_cuda else torch.ByteTensor\n",
    "Tensor = FloatTensor\n"
   ]
  },
  {
   "cell_type": "code",
   "execution_count": null,
   "metadata": {},
   "outputs": [],
   "source": [
    "dd = torch.zeros([1,1,2])\n",
    "abc = torch.zeros([1,1,2,1])\n",
    "abc = torch.cat((dd,abc), 0)\n",
    "dd = torch.zeros(abc.shape)\n",
    "dd.shape"
   ]
  },
  {
   "cell_type": "code",
   "execution_count": 43,
   "metadata": {},
   "outputs": [],
   "source": [
    "# create gym env\n",
    "env = gym.make('Snake-v0')\n",
    "outdir='/tmp/random-agent-results'\n",
    "env = Monitor(env, directory=outdir, force=True)\n",
    "env.seed(1234)"
   ]
  },
  {
   "cell_type": "code",
   "execution_count": 7,
   "metadata": {},
   "outputs": [],
   "source": [
    "Transition = namedtuple('Transition',\n",
    "                        ('state', 'action', 'next_state', 'reward'))\n",
    "\n",
    "\n",
    "class ReplayMemory(object):\n",
    "\n",
    "    def __init__(self, capacity):\n",
    "        self.capacity = capacity\n",
    "        self.memory = []\n",
    "        self.position = 0\n",
    "\n",
    "    def push(self, *args):\n",
    "        \"\"\"Saves a transition.\"\"\"\n",
    "        if len(self.memory) < self.capacity:\n",
    "            self.memory.append(None)\n",
    "        self.memory[self.position] = Transition(*args)\n",
    "        self.position = (self.position + 1) % self.capacity\n",
    "\n",
    "    def sample(self, batch_size):\n",
    "        return random.sample(self.memory, batch_size)\n",
    "\n",
    "    def __len__(self):\n",
    "        return len(self.memory)"
   ]
  },
  {
   "cell_type": "code",
   "execution_count": 8,
   "metadata": {},
   "outputs": [],
   "source": [
    "class DQN(nn.Module):\n",
    "\n",
    "    def __init__(self):\n",
    "        super(DQN, self).__init__()\n",
    "        self.conv1 = nn.Conv2d(3, 16, kernel_size=5, stride=2)\n",
    "        self.bn1 = nn.BatchNorm2d(16)\n",
    "        self.conv2 = nn.Conv2d(16, 32, kernel_size=5, stride=2)\n",
    "        self.bn2 = nn.BatchNorm2d(32)\n",
    "        self.conv3 = nn.Conv2d(32, 32, kernel_size=5, stride=2)\n",
    "        self.bn3 = nn.BatchNorm2d(32)\n",
    "        self.head = nn.Linear(32*5*5, 5)\n",
    "\n",
    "    def forward(self, x):\n",
    "        x = F.relu(self.bn1(self.conv1(x)))\n",
    "        #print(\"1\", x.shape)\n",
    "        x = F.relu(self.bn2(self.conv2(x)))\n",
    "        #print(\"2\", x.shape)\n",
    "        x = F.relu(self.bn3(self.conv3(x)))\n",
    "        #print(\"3\", x.shape)\n",
    "#        xx = x.view(1, -1)\n",
    "#        print(\"final\", x.shape)\n",
    " #       print(xx.shape)\n",
    "        return self.head(x.view(x.size(0), -1))"
   ]
  },
  {
   "cell_type": "code",
   "execution_count": 9,
   "metadata": {},
   "outputs": [],
   "source": [
    "BATCH_SIZE = 64\n",
    "GAMMA = 0.999\n",
    "EPS_START = 0.9\n",
    "EPS_END = 0.05\n",
    "EPS_DECAY = 200\n",
    "\n",
    "model = DQN()\n",
    "\n",
    "if use_cuda:\n",
    "    model.cuda()\n",
    "\n",
    "optimizer = optim.RMSprop(model.parameters())\n",
    "memory = ReplayMemory(100000)\n",
    "\n",
    "steps_done = 0\n",
    "\n",
    "def select_action(state, init = True):\n",
    "    global steps_done\n",
    "    sample = random.random()\n",
    "    eps_threshold = EPS_END + (EPS_START - EPS_END) * \\\n",
    "        math.exp(-1. * steps_done / EPS_DECAY)\n",
    "    steps_done += 1\n",
    "    if init:\n",
    "        if sample > eps_threshold:\n",
    "    #         print(\"not random\")\n",
    "            return model(Variable(state, volatile=True).type(FloatTensor)).data.max(1)[1].view(1, 1)\n",
    "        else:\n",
    "    #         print(\"random\")\n",
    "            return LongTensor([[random.randrange(2)]])\n",
    "        \n",
    "\n",
    "\n",
    "episode_durations = []\n",
    "episode_rewards = []\n",
    "epi_food_obtained = []\n",
    "\n",
    "\n",
    "def plot_durations():\n",
    "    plt.figure(2, figsize = (15,5))\n",
    "    plt.clf()\n",
    "    durations_t = torch.FloatTensor(episode_durations)\n",
    "    plt.subplot(1,3,1)\n",
    "    plt.title('Training...')\n",
    "    plt.xlabel('Episode')\n",
    "    plt.ylabel('Duration')\n",
    "    plt.plot(durations_t.numpy())\n",
    "    # Take 100 episode averages and plot them too\n",
    "    if len(durations_t) >= 100:\n",
    "        means = durations_t.unfold(0, 100, 1).mean(1).view(-1)\n",
    "        means = torch.cat((torch.zeros(99), means))\n",
    "        plt.plot(means.numpy(), 'r')\n",
    "        \n",
    "        \n",
    "    plt.subplot(1,3,2)\n",
    "    plt.title('Total Reward vs episodes')\n",
    "    plt.xlabel(\"Episode\")\n",
    "    plt.ylabel(\"Reward\")\n",
    "    plt.plot(range(len(episode_rewards)), episode_rewards, 'r')\n",
    "    \n",
    "    plt.subplot(1,3,3)\n",
    "    plt.title('# Food obtained')\n",
    "    plt.xlabel(\"Episode\")\n",
    "    plt.ylabel(\"# Food obtained\")\n",
    "    plt.plot(range(len(epi_food_obtained)), epi_food_obtained, 'r')\n",
    "    plt.pause(0.001)  # pause a bit so that plots are updated\n",
    "#     if is_ipython:\n",
    "#         display.clear_output(wait=True)\n",
    "#         display.display(plt.gcf())\n"
   ]
  },
  {
   "cell_type": "code",
   "execution_count": 10,
   "metadata": {},
   "outputs": [],
   "source": [
    "last_sync = 0\n",
    "\n",
    "\n",
    "def optimize_model():\n",
    "    global last_sync\n",
    "    from IPython.core.debugger import Tracer\n",
    "    \n",
    "    # if population of the replay memory is not enough, don't do anything\n",
    "    if len(memory) < BATCH_SIZE:\n",
    "        return\n",
    "    # uncomment to enable debugger\n",
    "    # Tracer()()\n",
    "    transitions = memory.sample(BATCH_SIZE)\n",
    "    # Transpose the batch (see http://stackoverflow.com/a/19343/3343043 for\n",
    "    # detailed explanation).\n",
    "    batch = Transition(*zip(*transitions))\n",
    "\n",
    "    # Compute a mask of non-final states and concatenate the batch elements\n",
    "    non_final_mask = ByteTensor(tuple(map(lambda s: s is not None, batch.next_state)))\n",
    "\n",
    "    # We don't want to backprop through the expected action values and volatile\n",
    "    # will save us on temporarily changing the model parameters'\n",
    "    # requires_grad to False!\n",
    "    non_final_next_states = Variable(torch.cat([s for s in batch.next_state\n",
    "                                                if s is not None]),\n",
    "                                     volatile=True)\n",
    "    state_batch = Variable(torch.cat(batch.state))\n",
    "    action_batch = Variable(torch.cat(batch.action))\n",
    "    reward_batch = Variable(torch.cat(batch.reward))\n",
    "\n",
    "    # Compute Q(s_t, a) - the model computes Q(s_t), then we select the\n",
    "    # columns of actions taken\n",
    "    state_action_values = model(state_batch).gather(1, action_batch)\n",
    "\n",
    "    # Compute V(s_{t+1}) for all next states.\n",
    "    next_state_values = Variable(torch.zeros(BATCH_SIZE).type(Tensor))\n",
    "    next_state_values[non_final_mask] = model(non_final_next_states).max(1)[0]\n",
    "    # Now, we don't want to mess up the loss with a volatile flag, so let's\n",
    "    # clear it. After this, we'll just end up with a Variable that has\n",
    "    # requires_grad=False\n",
    "    next_state_values.volatile = False\n",
    "    # Compute the expected Q values\n",
    "    expected_state_action_values = (next_state_values * GAMMA) + reward_batch\n",
    "\n",
    "    # Compute Huber loss\n",
    "    loss = F.smooth_l1_loss(state_action_values, expected_state_action_values)\n",
    "\n",
    "    # Optimize the model\n",
    "    optimizer.zero_grad()\n",
    "    loss.backward()\n",
    "    for param in model.parameters():\n",
    "        param.grad.data.clamp_(-1, 1)\n",
    "    optimizer.step()"
   ]
  },
  {
   "cell_type": "code",
   "execution_count": null,
   "metadata": {},
   "outputs": [],
   "source": [
    "params = list(model.parameters())\n",
    "params"
   ]
  },
  {
   "cell_type": "code",
   "execution_count": null,
   "metadata": {},
   "outputs": [],
   "source": [
    "len(memory.memory)"
   ]
  },
  {
   "cell_type": "code",
   "execution_count": null,
   "metadata": {},
   "outputs": [],
   "source": [
    "def to_grayscale(img):\n",
    "    \"\"\"\n",
    "    turns an image into a grayscale image\n",
    "    \"\"\"\n",
    "    return np.mean(img, axis=2).astype(np.uint8)"
   ]
  },
  {
   "cell_type": "code",
   "execution_count": null,
   "metadata": {},
   "outputs": [],
   "source": [
    "def downsample(img):\n",
    "    \"\"\"\n",
    "    downsamples an image by taking everyone second pixel\n",
    "    \"\"\"\n",
    "    return img[::2, ::2]"
   ]
  },
  {
   "cell_type": "code",
   "execution_count": null,
   "metadata": {},
   "outputs": [],
   "source": [
    "def preprocess(img):\n",
    "    \"\"\"\n",
    "    preprocesses the image with grayscale and downsampling\n",
    "    \"\"\"\n",
    "    return to_grayscale(downsample(img))"
   ]
  },
  {
   "cell_type": "code",
   "execution_count": null,
   "metadata": {},
   "outputs": [],
   "source": [
    "def transform_reward(reward):\n",
    "    \"\"\"\n",
    "    returns the sign of the reward, so that the learning agent can be used in multiple games\n",
    "    \"\"\"\n",
    "    return np.sign(reward)"
   ]
  },
  {
   "cell_type": "code",
   "execution_count": 11,
   "metadata": {},
   "outputs": [],
   "source": [
    "from PIL import Image\n",
    "resize = T.Compose([T.ToPILImage(),\n",
    "                    T.ToTensor()])\n",
    "\n",
    "def get_screen(frame):\n",
    "#     frame = torch.from_numpy(preprocess(frame)).unsqueeze(0)\n",
    "#    screen = preprocess(frame)\n",
    "    screen = frame.transpose(\n",
    "         (2, 0, 1))  # transpose into torch order (CHW)\n",
    "    # Convert to float, rescare, convert to torch tensor\n",
    "    # (this doesn't require a copy)\n",
    "    screen = np.ascontiguousarray(screen, dtype=np.float32) / 255\n",
    "    screen = torch.from_numpy(screen)\n",
    "    # Resize, and add a batch dimension (BCHW)\n",
    "    return resize(screen).unsqueeze(0).type(Tensor)"
   ]
  },
  {
   "cell_type": "code",
   "execution_count": null,
   "metadata": {},
   "outputs": [],
   "source": []
  },
  {
   "cell_type": "code",
   "execution_count": 44,
   "metadata": {},
   "outputs": [],
   "source": [
    "def gen_frame_stack(action, env, current_screen):\n",
    "    \"\"\"\n",
    "    parameters:\n",
    "    action : action, as Tensor\n",
    "    env : openai gym environment object\n",
    "    frame_stack : BCHW Tensor\n",
    "    current_screen : the current screen, already processed with get_screen()\n",
    "    generates a stack of 4 frames to be fed into the DQN model\n",
    "    \"\"\"\n",
    "    from IPython.core.debugger import Tracer\n",
    "    \n",
    "#     Tracer()()\n",
    "    \n",
    "    food_obtained = 0\n",
    "    frame_stack = torch.zeros([1,3,64,64])\n",
    "    stack_reward = 0\n",
    "    for i in range(4):\n",
    "        next_obs,reward, done, _ = env.step(action[0,0])\n",
    "        reward, new_food = get_reward(reward)\n",
    "        stack_reward += reward\n",
    "        food_obtained += new_food\n",
    "        \n",
    "        if done:\n",
    "            frame_stack = None\n",
    "            break\n",
    "        else:\n",
    "            last_screen = current_screen\n",
    "            current_screen = get_screen(next_obs)\n",
    "            next_state = current_screen - last_screen\n",
    "            if i != 0:    # if frame stack was not previously empty\n",
    "                frame_stack = torch.cat((frame_stack, next_state), 0)\n",
    "            else: # if frame stack is empty\n",
    "                frame_stack = next_state\n",
    "        \n",
    "#     if frame_stack.shape[0] != 4:\n",
    "#         frame_stack = None\n",
    "        \n",
    "    return frame_stack, stack_reward, food_obtained"
   ]
  },
  {
   "cell_type": "code",
   "execution_count": null,
   "metadata": {},
   "outputs": [],
   "source": [
    "a = torch.FloatTensor()\n",
    "a"
   ]
  },
  {
   "cell_type": "code",
   "execution_count": 33,
   "metadata": {},
   "outputs": [],
   "source": [
    "def get_reward(reward):\n",
    "    food_obtained = 0\n",
    "    if reward == 1:\n",
    "        food_obtained += 1\n",
    "        print(\"food obtained, now eaten %d foods\" % food_obtained)\n",
    "        reward = 1000\n",
    "    elif reward == 0:    \n",
    "        # give a negative reward for each step taken\n",
    "        reward = -1\n",
    "    elif reward == -5:\n",
    "        print('crashed')\n",
    "        # hits a wall\n",
    "        reward = -500\n",
    "    return reward, food_obtained"
   ]
  },
  {
   "cell_type": "code",
   "execution_count": 45,
   "metadata": {
    "scrolled": false
   },
   "outputs": [
    {
     "name": "stdout",
     "output_type": "stream",
     "text": [
      "crashed\n"
     ]
    },
    {
     "ename": "AttributeError",
     "evalue": "'NoneType' object has no attribute 'shape'",
     "output_type": "error",
     "traceback": [
      "\u001b[0;31m---------------------------------------\u001b[0m",
      "\u001b[0;31mAttributeError\u001b[0mTraceback (most recent call last)",
      "\u001b[0;32m<ipython-input-45-3a7c93dee5e1>\u001b[0m in \u001b[0;36m<module>\u001b[0;34m()\u001b[0m\n\u001b[1;32m     19\u001b[0m             \u001b[0;31m# initialize the stack frame\u001b[0m\u001b[0;34m\u001b[0m\u001b[0;34m\u001b[0m\u001b[0m\n\u001b[1;32m     20\u001b[0m             \u001b[0mframe_stack\u001b[0m \u001b[0;34m=\u001b[0m \u001b[0mtorch\u001b[0m\u001b[0;34m.\u001b[0m\u001b[0mzeros\u001b[0m\u001b[0;34m(\u001b[0m\u001b[0;34m[\u001b[0m\u001b[0;36m1\u001b[0m\u001b[0;34m,\u001b[0m\u001b[0;36m3\u001b[0m\u001b[0;34m,\u001b[0m\u001b[0;36m64\u001b[0m\u001b[0;34m,\u001b[0m\u001b[0;36m64\u001b[0m\u001b[0;34m]\u001b[0m\u001b[0;34m)\u001b[0m\u001b[0;34m\u001b[0m\u001b[0m\n\u001b[0;32m---> 21\u001b[0;31m             \u001b[0;32mwhile\u001b[0m \u001b[0;34m(\u001b[0m\u001b[0mframe_stack\u001b[0m\u001b[0;34m.\u001b[0m\u001b[0mshape\u001b[0m \u001b[0;34m!=\u001b[0m \u001b[0;34m[\u001b[0m\u001b[0;36m4\u001b[0m\u001b[0;34m,\u001b[0m\u001b[0;36m3\u001b[0m\u001b[0;34m,\u001b[0m\u001b[0;36m64\u001b[0m\u001b[0;34m,\u001b[0m\u001b[0;36m64\u001b[0m\u001b[0;34m]\u001b[0m\u001b[0;34m)\u001b[0m\u001b[0;34m:\u001b[0m\u001b[0;34m\u001b[0m\u001b[0m\n\u001b[0m\u001b[1;32m     22\u001b[0m                 \u001b[0mframe_stack\u001b[0m\u001b[0;34m,\u001b[0m \u001b[0mstack_reward\u001b[0m\u001b[0;34m,\u001b[0m \u001b[0mnew_food_obtained\u001b[0m \u001b[0;34m=\u001b[0m \u001b[0mgen_frame_stack\u001b[0m\u001b[0;34m(\u001b[0m\u001b[0maction\u001b[0m\u001b[0;34m,\u001b[0m \u001b[0menv\u001b[0m\u001b[0;34m,\u001b[0m \u001b[0mcurrent_screen\u001b[0m\u001b[0;34m)\u001b[0m\u001b[0;34m\u001b[0m\u001b[0m\n\u001b[1;32m     23\u001b[0m             \u001b[0mmemory\u001b[0m\u001b[0;34m.\u001b[0m\u001b[0mpush\u001b[0m\u001b[0;34m(\u001b[0m\u001b[0mtorch\u001b[0m\u001b[0;34m.\u001b[0m\u001b[0mcat\u001b[0m\u001b[0;34m(\u001b[0m\u001b[0;34m(\u001b[0m\u001b[0mstate\u001b[0m\u001b[0;34m,\u001b[0m\u001b[0mstate\u001b[0m\u001b[0;34m,\u001b[0m\u001b[0mstate\u001b[0m\u001b[0;34m,\u001b[0m\u001b[0mstate\u001b[0m\u001b[0;34m)\u001b[0m\u001b[0;34m,\u001b[0m\u001b[0;36m0\u001b[0m\u001b[0;34m)\u001b[0m\u001b[0;34m,\u001b[0m \u001b[0maction\u001b[0m\u001b[0;34m,\u001b[0m \u001b[0mframe_stack\u001b[0m\u001b[0;34m,\u001b[0m \u001b[0mstack_reward\u001b[0m\u001b[0;34m)\u001b[0m\u001b[0;34m\u001b[0m\u001b[0m\n",
      "\u001b[0;31mAttributeError\u001b[0m: 'NoneType' object has no attribute 'shape'"
     ]
    }
   ],
   "source": [
    "# main\n",
    "plot_every = 1\n",
    "print_every = 1\n",
    "num_episodes = 5\n",
    "for i_episode in range(num_episodes):\n",
    "    # Initialize the environment and state\n",
    "    # get initial observation\n",
    "    init_obs = env.reset()\n",
    "    current_screen = get_screen(init_obs)\n",
    "    state = current_screen\n",
    "    current_reward = 0\n",
    "    food_obtained = 0\n",
    "    \n",
    "    for t in count():\n",
    "        if t == 0:\n",
    "            # Select and perform an action\n",
    "            action = select_action(state)\n",
    "\n",
    "            # initialize the stack frame\n",
    "            frame_stack = torch.zeros([1,3,64,64])\n",
    "            while (frame_stack.shape != [4,3,64,64]):\n",
    "                frame_stack, stack_reward, new_food_obtained = gen_frame_stack(action, env, current_screen)\n",
    "            memory.push(torch.cat((state,state,state,state),0), action, frame_stack, stack_reward)\n",
    "\n",
    "        else:\n",
    "            # init loop vars\n",
    "            stack_reward = 0\n",
    "\n",
    "            # Select and perform an action\n",
    "            prev_stack = frame_stack\n",
    "            state = frame_stack[3]\n",
    "            action = select_action(state)\n",
    "            \n",
    "            frame_stack, stack_reward, new_food_obtained = gen_frame_stack(action, env, current_screen)\n",
    "            \n",
    "\n",
    "#             # Observe new state\n",
    "#             last_screen = current_screen\n",
    "#             current_screen = get_screen(next_obs)\n",
    "#             if not done:\n",
    "#                 next_state = current_screen - last_screen\n",
    "\n",
    "#                 # stack frames\n",
    "#                 stacked_frames = torch.cat((stacked_frames, next_state))\n",
    "#             else:\n",
    "#                 next_state = None\n",
    "\n",
    "#                 # set stacked_frames to None\n",
    "#                 stacked_frames = None\n",
    "#                 break\n",
    "        \n",
    "        # update rewards\n",
    "        current_reward += stack_reward\n",
    "\n",
    "        reward = Tensor([stack_reward])\n",
    "        \n",
    "        food_obtained += new_food_obtained\n",
    "        \n",
    "        # Store the transition in memory\n",
    "        memory.push(prev_stack, action, frame_stack, reward)\n",
    "\n",
    "        # Move to the next state\n",
    "        state = frame_stack\n",
    "\n",
    "        # Perform one step of the optimization (on the target network)\n",
    "        optimize_model()\n",
    "        if frame_stack == None:\n",
    "            episode_durations.append(t + 1)\n",
    "            episode_rewards.append(current_reward)\n",
    "            epi_food_obtained.append(food_obtained)\n",
    "            if i_episode % print_every == 0:\n",
    "                print(\"Running episode #%d; episode duration is %d steps\" % (len(episode_durations), t+1))\n",
    "            if i_episode % plot_every == 0:\n",
    "                plot_durations()\n",
    "            break\n",
    "\n",
    "print('Complete')\n"
   ]
  },
  {
   "cell_type": "code",
   "execution_count": null,
   "metadata": {},
   "outputs": [],
   "source": [
    "class Agent(object):\n",
    "    def __init__(self, action_space):\n",
    "        self.action_space = action_space\n",
    "\n",
    "    def random_act(self, observation, reward, done):\n",
    "        return self.action_space.sample()\n",
    "    \n",
    "    # 0 : nothing, 1: left, 2: right\n",
    "    def fix_act(self):\n",
    "        return 1\n"
   ]
  },
  {
   "cell_type": "code",
   "execution_count": null,
   "metadata": {},
   "outputs": [],
   "source": [
    "len(memory.memory)"
   ]
  },
  {
   "cell_type": "code",
   "execution_count": null,
   "metadata": {},
   "outputs": [],
   "source": [
    "env = gym.make('Snake-v0')\n",
    "outdir='/tmp/random-agent-results'\n",
    "env = Monitor(env, directory=outdir, force=True)\n",
    "env.seed(1234)\n",
    "agent = Agent(env.action_space)\n"
   ]
  },
  {
   "cell_type": "code",
   "execution_count": null,
   "metadata": {},
   "outputs": [],
   "source": [
    "reward = 0\n",
    "done=False\n"
   ]
  },
  {
   "cell_type": "code",
   "execution_count": null,
   "metadata": {},
   "outputs": [],
   "source": [
    "ob = env.reset()\n",
    "done = False\n",
    "screen_caps = []\n",
    "rewards = []\n",
    "while not done: \n",
    "    action = agent.fix_act()\n",
    "    ob, reward, done, _ = env.step(0)\n",
    "    rewards.append(reward)\n",
    "    screen_caps.append(ob)"
   ]
  },
  {
   "cell_type": "code",
   "execution_count": null,
   "metadata": {},
   "outputs": [],
   "source": [
    "plt.imshow(screen_caps[0])"
   ]
  },
  {
   "cell_type": "code",
   "execution_count": null,
   "metadata": {},
   "outputs": [],
   "source": [
    "plt.imshow(screen_caps[-1])"
   ]
  },
  {
   "cell_type": "code",
   "execution_count": null,
   "metadata": {},
   "outputs": [],
   "source": [
    "print(ob.shape)"
   ]
  },
  {
   "cell_type": "code",
   "execution_count": null,
   "metadata": {},
   "outputs": [],
   "source": [
    "PATH = 'models/'"
   ]
  },
  {
   "cell_type": "code",
   "execution_count": null,
   "metadata": {},
   "outputs": [],
   "source": [
    "def save_model(model, path):\n",
    "    model.float()\n",
    "    torch.save(model.state_dict(), path)"
   ]
  },
  {
   "cell_type": "code",
   "execution_count": null,
   "metadata": {},
   "outputs": [],
   "source": [
    "save_model(model, PATH+'dqn_rewardUpdate.pth')"
   ]
  },
  {
   "cell_type": "code",
   "execution_count": null,
   "metadata": {},
   "outputs": [],
   "source": [
    "def load_model(model, path):\n",
    "    model.load_state_dict(torch.load(path))"
   ]
  },
  {
   "cell_type": "code",
   "execution_count": null,
   "metadata": {},
   "outputs": [],
   "source": [
    "load_model(model, PATH+'dqn.pth')"
   ]
  },
  {
   "cell_type": "code",
   "execution_count": null,
   "metadata": {},
   "outputs": [],
   "source": [
    "for parameter in model.parameters():\n",
    "    print(parameter)"
   ]
  },
  {
   "cell_type": "code",
   "execution_count": 42,
   "metadata": {},
   "outputs": [],
   "source": [
    "env.close()"
   ]
  },
  {
   "cell_type": "code",
   "execution_count": null,
   "metadata": {},
   "outputs": [],
   "source": []
  }
 ],
 "metadata": {
  "kernelspec": {
   "display_name": "Python 3",
   "language": "python",
   "name": "python3"
  },
  "language_info": {
   "codemirror_mode": {
    "name": "ipython",
    "version": 3
   },
   "file_extension": ".py",
   "mimetype": "text/x-python",
   "name": "python",
   "nbconvert_exporter": "python",
   "pygments_lexer": "ipython3",
   "version": "3.5.4"
  }
 },
 "nbformat": 4,
 "nbformat_minor": 2
}
