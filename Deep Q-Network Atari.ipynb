{
 "cells": [
  {
   "cell_type": "code",
   "execution_count": 1,
   "metadata": {
    "collapsed": true
   },
   "outputs": [],
   "source": [
    "%matplotlib inline"
   ]
  },
  {
   "cell_type": "code",
   "execution_count": 2,
   "metadata": {},
   "outputs": [
    {
     "name": "stdout",
     "output_type": "stream",
     "text": [
      "couldn't import doomish\n",
      "Couldn't import doom\n"
     ]
    }
   ],
   "source": [
    "#import gym modules\n",
    "import gym\n",
    "import gym_ple\n",
    "from gym.wrappers import Monitor\n",
    "import pygame"
   ]
  },
  {
   "cell_type": "code",
   "execution_count": 3,
   "metadata": {
    "collapsed": true
   },
   "outputs": [],
   "source": [
    "# import pytorch modules\n",
    "import torch\n",
    "import torch.nn as nn\n",
    "import torch.nn.functional as F\n",
    "import torch.optim as optim\n",
    "\n",
    "import torchvision\n",
    "import torchvision.transforms as T\n",
    "\n",
    "from torch.autograd import Variable"
   ]
  },
  {
   "cell_type": "code",
   "execution_count": 4,
   "metadata": {
    "collapsed": true
   },
   "outputs": [],
   "source": [
    "# import time to slow down rendering speed\n",
    "import time\n",
    "import random\n",
    "import math\n",
    "import matplotlib.pyplot as plt\n",
    "import numpy as np\n",
    "from collections import namedtuple\n",
    "from itertools import count"
   ]
  },
  {
   "cell_type": "code",
   "execution_count": 5,
   "metadata": {
    "collapsed": true
   },
   "outputs": [],
   "source": [
    "use_cuda = torch.cuda.is_available()\n",
    "FloatTensor = torch.cuda.FloatTensor if use_cuda else torch.FloatTensor\n",
    "LongTensor = torch.cuda.LongTensor if use_cuda else torch.LongTensor\n",
    "ByteTensor = torch.cuda.ByteTensor if use_cuda else torch.ByteTensor\n",
    "Tensor = FloatTensor\n"
   ]
  },
  {
   "cell_type": "code",
   "execution_count": 6,
   "metadata": {},
   "outputs": [
    {
     "name": "stdout",
     "output_type": "stream",
     "text": [
      "\u001b[33mWARN: gym.spaces.Box autodetected dtype as <class 'numpy.uint8'>. Please provide explicit dtype.\u001b[0m\n",
      "\u001b[33mWARN: Environment '<class 'gym_ple.ple_env.PLEEnv'>' has deprecated methods. Compatibility code invoked.\u001b[0m\n"
     ]
    }
   ],
   "source": [
    "# create gym env\n",
    "env = gym.make('Snake-v0')\n",
    "outdir='/tmp/random-agent-results'\n",
    "env = Monitor(env, directory=outdir, force=True)\n",
    "env.seed(1234)"
   ]
  },
  {
   "cell_type": "code",
   "execution_count": 7,
   "metadata": {
    "collapsed": true
   },
   "outputs": [],
   "source": [
    "Transition = namedtuple('Transition',\n",
    "                        ('state', 'action', 'next_state', 'reward'))\n",
    "\n",
    "\n",
    "class ReplayMemory(object):\n",
    "\n",
    "    def __init__(self, capacity):\n",
    "        self.capacity = capacity\n",
    "        self.memory = []\n",
    "        self.position = 0\n",
    "\n",
    "    def push(self, *args):\n",
    "        \"\"\"Saves a transition.\"\"\"\n",
    "        if len(self.memory) < self.capacity:\n",
    "            self.memory.append(None)\n",
    "        self.memory[self.position] = Transition(*args)\n",
    "        self.position = (self.position + 1) % self.capacity\n",
    "\n",
    "    def sample(self, batch_size):\n",
    "        return random.sample(self.memory, batch_size)\n",
    "\n",
    "    def __len__(self):\n",
    "        return len(self.memory)"
   ]
  },
  {
   "cell_type": "code",
   "execution_count": 8,
   "metadata": {
    "collapsed": true
   },
   "outputs": [],
   "source": [
    "class DQN(nn.Module):\n",
    "\n",
    "    def __init__(self):\n",
    "        super(DQN, self).__init__()\n",
    "        self.conv1 = nn.Conv2d(3, 16, kernel_size=5, stride=2)\n",
    "        self.bn1 = nn.BatchNorm2d(16)\n",
    "        self.conv2 = nn.Conv2d(16, 32, kernel_size=5, stride=2)\n",
    "        self.bn2 = nn.BatchNorm2d(32)\n",
    "        self.conv3 = nn.Conv2d(32, 32, kernel_size=5, stride=2)\n",
    "        self.bn3 = nn.BatchNorm2d(32)\n",
    "        self.head = nn.Linear(32*5*5, 5)\n",
    "\n",
    "    def forward(self, x):\n",
    "        x = F.relu(self.bn1(self.conv1(x)))\n",
    "        #print(\"1\", x.shape)\n",
    "        x = F.relu(self.bn2(self.conv2(x)))\n",
    "        #print(\"2\", x.shape)\n",
    "        x = F.relu(self.bn3(self.conv3(x)))\n",
    "        #print(\"3\", x.shape)\n",
    "#        xx = x.view(1, -1)\n",
    "#        print(\"final\", x.shape)\n",
    " #       print(xx.shape)\n",
    "        return self.head(x.view(x.size(0), -1))"
   ]
  },
  {
   "cell_type": "code",
   "execution_count": 9,
   "metadata": {
    "collapsed": true
   },
   "outputs": [],
   "source": [
    "BATCH_SIZE = 64\n",
    "GAMMA = 0.999\n",
    "EPS_START = 0.9\n",
    "EPS_END = 0.05\n",
    "EPS_DECAY = 200\n",
    "\n",
    "model = DQN()\n",
    "\n",
    "if use_cuda:\n",
    "    model.cuda()\n",
    "\n",
    "optimizer = optim.RMSprop(model.parameters())\n",
    "memory = ReplayMemory(10000)\n",
    "\n",
    "steps_done = 0\n",
    "\n",
    "def select_action(state):\n",
    "    global steps_done\n",
    "    sample = random.random()\n",
    "    eps_threshold = EPS_END + (EPS_START - EPS_END) * \\\n",
    "        math.exp(-1. * steps_done / EPS_DECAY)\n",
    "    steps_done += 1\n",
    "    \n",
    "    if sample > eps_threshold:\n",
    "#         print(\"not random\")\n",
    "        return model(Variable(state, volatile=True).type(FloatTensor)).data.max(1)[1].view(1, 1)\n",
    "    else:\n",
    "#         print(\"random\")\n",
    "        return LongTensor([[random.randrange(2)]])\n",
    "\n",
    "\n",
    "episode_durations = []\n",
    "episode_rewards = []\n",
    "epi_food_obtained = []\n",
    "\n",
    "\n",
    "def plot_durations():\n",
    "    plt.figure(2, figsize = (15,5))\n",
    "    plt.clf()\n",
    "    durations_t = torch.FloatTensor(episode_durations)\n",
    "    plt.subplot(1,3,1)\n",
    "    plt.title('Training...')\n",
    "    plt.xlabel('Episode')\n",
    "    plt.ylabel('Duration')\n",
    "    plt.plot(durations_t.numpy())\n",
    "    # Take 100 episode averages and plot them too\n",
    "    if len(durations_t) >= 100:\n",
    "        means = durations_t.unfold(0, 100, 1).mean(1).view(-1)\n",
    "        means = torch.cat((torch.zeros(99), means))\n",
    "        plt.plot(means.numpy(), 'r')\n",
    "        \n",
    "        \n",
    "    plt.subplot(1,3,2)\n",
    "    plt.title('Total Reward vs episodes')\n",
    "    plt.xlabel(\"Episode\")\n",
    "    plt.ylabel(\"Reward\")\n",
    "    plt.plot(range(len(episode_rewards)), episode_rewards, 'r')\n",
    "    \n",
    "    plt.subplot(1,3,3)\n",
    "    plt.title('# Food obtained')\n",
    "    plt.xlabel(\"Episode\")\n",
    "    plt.ylabel(\"# Food obtained\")\n",
    "    plt.plot(range(len(epi_food_obtained)), epi_food_obtained, 'r')\n",
    "    plt.pause(0.001)  # pause a bit so that plots are updated\n",
    "#     if is_ipython:\n",
    "#         display.clear_output(wait=True)\n",
    "#         display.display(plt.gcf())\n"
   ]
  },
  {
   "cell_type": "code",
   "execution_count": 10,
   "metadata": {
    "collapsed": true
   },
   "outputs": [],
   "source": [
    "last_sync = 0\n",
    "\n",
    "\n",
    "def optimize_model():\n",
    "    global last_sync\n",
    "    from IPython.core.debugger import Tracer\n",
    "    \n",
    "    # if population of the replay memory is not enough, don't do anything\n",
    "    if len(memory) < BATCH_SIZE:\n",
    "        return\n",
    "    # uncomment to enable debugger\n",
    "    # Tracer()()\n",
    "    transitions = memory.sample(BATCH_SIZE)\n",
    "    # Transpose the batch (see http://stackoverflow.com/a/19343/3343043 for\n",
    "    # detailed explanation).\n",
    "    batch = Transition(*zip(*transitions))\n",
    "\n",
    "    # Compute a mask of non-final states and concatenate the batch elements\n",
    "    non_final_mask = ByteTensor(tuple(map(lambda s: s is not None, batch.next_state)))\n",
    "\n",
    "    # We don't want to backprop through the expected action values and volatile\n",
    "    # will save us on temporarily changing the model parameters'\n",
    "    # requires_grad to False!\n",
    "    non_final_next_states = Variable(torch.cat([s for s in batch.next_state\n",
    "                                                if s is not None]),\n",
    "                                     volatile=True)\n",
    "    for i in range(len(batch.state)):\n",
    "        if batch.state[i] is None:\n",
    "            print(\"None\")\n",
    "        else:\n",
    "            print(batch.state[i].type())\n",
    "    \n",
    "    state_batch = Variable(torch.cat(batch.state))\n",
    "    action_batch = Variable(torch.cat(batch.action))\n",
    "    reward_batch = Variable(torch.cat(batch.reward))\n",
    "\n",
    "    # Compute Q(s_t, a) - the model computes Q(s_t), then we select the\n",
    "    # columns of actions taken\n",
    "    \n",
    "    Tracer()()\n",
    "    state_action_values = model(state_batch).gather(1, action_batch)\n",
    "\n",
    "    # Compute V(s_{t+1}) for all next states.\n",
    "    next_state_values = Variable(torch.zeros(BATCH_SIZE).type(Tensor))\n",
    "    next_state_values[non_final_mask] = model(non_final_next_states).max(1)[0]\n",
    "    # Now, we don't want to mess up the loss with a volatile flag, so let's\n",
    "    # clear it. After this, we'll just end up with a Variable that has\n",
    "    # requires_grad=False\n",
    "    next_state_values.volatile = False\n",
    "    # Compute the expected Q values\n",
    "    expected_state_action_values = (next_state_values * GAMMA) + reward_batch\n",
    "\n",
    "    # Compute Huber loss\n",
    "    loss = F.smooth_l1_loss(state_action_values, expected_state_action_values)\n",
    "\n",
    "    # Optimize the model\n",
    "    optimizer.zero_grad()\n",
    "    loss.backward()\n",
    "    for param in model.parameters():\n",
    "        param.grad.data.clamp_(-1, 1)\n",
    "    optimizer.step()"
   ]
  },
  {
   "cell_type": "code",
   "execution_count": null,
   "metadata": {
    "collapsed": true
   },
   "outputs": [],
   "source": [
    "from PIL import Image\n",
    "resize = T.Compose([T.ToPILImage(),\n",
    "                    T.ToTensor()])\n",
    "\n",
    "def get_screen(frame):\n",
    "#     frame = torch.from_numpy(preprocess(frame)).unsqueeze(0)\n",
    "#    screen = preprocess(frame)\n",
    "    screen = frame.transpose(\n",
    "         (2, 0, 1))  # transpose into torch order (CHW)\n",
    "    # Convert to float, rescare, convert to torch tensor\n",
    "    # (this doesn't require a copy)\n",
    "    screen = np.ascontiguousarray(screen, dtype=np.float32) / 255\n",
    "    screen = torch.from_numpy(screen)\n",
    "    # Resize, and add a batch dimension (BCHW)\n",
    "    return resize(screen).unsqueeze(0).type(Tensor)"
   ]
  },
  {
   "cell_type": "code",
   "execution_count": null,
   "metadata": {
    "scrolled": false
   },
   "outputs": [
    {
     "name": "stdout",
     "output_type": "stream",
     "text": [
      "\u001b[33mWARN: gym.spaces.Box autodetected dtype as <class 'numpy.uint8'>. Please provide explicit dtype.\u001b[0m\n",
      "crashed\n",
      "Running episode #1; episode duration is 61 steps\n"
     ]
    },
    {
     "data": {
      "image/png": "[encoded data removed]",
      "text/plain": [
       "<matplotlib.figure.Figure at 0x7f20a82008d0>"
      ]
     },
     "metadata": {},
     "output_type": "display_data"
    },
    {
     "name": "stdout",
     "output_type": "stream",
     "text": [
      "\u001b[33mWARN: gym.spaces.Box autodetected dtype as <class 'numpy.uint8'>. Please provide explicit dtype.\u001b[0m\n"
     ]
    },
    {
     "name": "stderr",
     "output_type": "stream",
     "text": [
      "/home/jamsawamsa/anaconda3/envs/py35/lib/python3.5/site-packages/ipykernel_launcher.py:40: DeprecationWarning: `Tracer` is deprecated since version 5.1, directly use `IPython.core.debugger.Pdb.set_trace()`\n"
     ]
    },
    {
     "name": "stdout",
     "output_type": "stream",
     "text": [
      "torch.cuda.FloatTensor\n",
      "torch.cuda.FloatTensor\n",
      "torch.cuda.FloatTensor\n",
      "torch.cuda.FloatTensor\n",
      "torch.cuda.FloatTensor\n",
      "torch.cuda.FloatTensor\n",
      "torch.cuda.FloatTensor\n",
      "torch.cuda.FloatTensor\n",
      "torch.cuda.FloatTensor\n",
      "torch.cuda.FloatTensor\n",
      "torch.cuda.FloatTensor\n",
      "torch.cuda.FloatTensor\n",
      "torch.cuda.FloatTensor\n",
      "torch.cuda.FloatTensor\n",
      "torch.cuda.FloatTensor\n",
      "torch.cuda.FloatTensor\n",
      "torch.cuda.FloatTensor\n",
      "torch.cuda.FloatTensor\n",
      "torch.cuda.FloatTensor\n",
      "torch.cuda.FloatTensor\n",
      "torch.cuda.FloatTensor\n",
      "torch.cuda.FloatTensor\n",
      "torch.cuda.FloatTensor\n",
      "torch.cuda.FloatTensor\n",
      "torch.cuda.FloatTensor\n",
      "torch.cuda.FloatTensor\n",
      "torch.cuda.FloatTensor\n",
      "torch.cuda.FloatTensor\n",
      "torch.cuda.FloatTensor\n",
      "torch.cuda.FloatTensor\n",
      "torch.cuda.FloatTensor\n",
      "torch.cuda.FloatTensor\n",
      "torch.cuda.FloatTensor\n",
      "torch.cuda.FloatTensor\n",
      "torch.cuda.FloatTensor\n",
      "torch.cuda.FloatTensor\n",
      "torch.cuda.FloatTensor\n",
      "torch.cuda.FloatTensor\n",
      "torch.cuda.FloatTensor\n",
      "torch.cuda.FloatTensor\n",
      "torch.cuda.FloatTensor\n",
      "torch.cuda.FloatTensor\n",
      "torch.cuda.FloatTensor\n",
      "torch.cuda.FloatTensor\n",
      "torch.cuda.FloatTensor\n",
      "torch.cuda.FloatTensor\n",
      "torch.cuda.FloatTensor\n",
      "torch.cuda.FloatTensor\n",
      "torch.cuda.FloatTensor\n",
      "torch.cuda.FloatTensor\n",
      "torch.cuda.FloatTensor\n",
      "torch.cuda.FloatTensor\n",
      "torch.cuda.FloatTensor\n",
      "torch.cuda.FloatTensor\n",
      "torch.cuda.FloatTensor\n",
      "torch.cuda.FloatTensor\n",
      "torch.cuda.FloatTensor\n",
      "torch.cuda.FloatTensor\n",
      "torch.cuda.FloatTensor\n",
      "torch.cuda.FloatTensor\n",
      "torch.cuda.FloatTensor\n",
      "torch.cuda.FloatTensor\n",
      "torch.cuda.FloatTensor\n",
      "torch.cuda.FloatTensor\n",
      "> \u001b[0;32m<ipython-input-10-2626dfa041c6>\u001b[0m(41)\u001b[0;36moptimize_model\u001b[0;34m()\u001b[0m\n",
      "\u001b[0;32m     39 \u001b[0;31m\u001b[0;34m\u001b[0m\u001b[0m\n",
      "\u001b[0m\u001b[0;32m     40 \u001b[0;31m    \u001b[0mTracer\u001b[0m\u001b[0;34m(\u001b[0m\u001b[0;34m)\u001b[0m\u001b[0;34m(\u001b[0m\u001b[0;34m)\u001b[0m\u001b[0;34m\u001b[0m\u001b[0m\n",
      "\u001b[0m\u001b[0;32m---> 41 \u001b[0;31m    \u001b[0mstate_action_values\u001b[0m \u001b[0;34m=\u001b[0m \u001b[0mmodel\u001b[0m\u001b[0;34m(\u001b[0m\u001b[0mstate_batch\u001b[0m\u001b[0;34m)\u001b[0m\u001b[0;34m.\u001b[0m\u001b[0mgather\u001b[0m\u001b[0;34m(\u001b[0m\u001b[0;36m1\u001b[0m\u001b[0;34m,\u001b[0m \u001b[0maction_batch\u001b[0m\u001b[0;34m)\u001b[0m\u001b[0;34m\u001b[0m\u001b[0m\n",
      "\u001b[0m\u001b[0;32m     42 \u001b[0;31m\u001b[0;34m\u001b[0m\u001b[0m\n",
      "\u001b[0m\u001b[0;32m     43 \u001b[0;31m    \u001b[0;31m# Compute V(s_{t+1}) for all next states.\u001b[0m\u001b[0;34m\u001b[0m\u001b[0;34m\u001b[0m\u001b[0m\n",
      "\u001b[0m\n",
      "ipdb> model\n",
      "DQN(\n",
      "  (conv1): Conv2d(3, 16, kernel_size=(5, 5), stride=(2, 2))\n",
      "  (bn1): BatchNorm2d(16, eps=1e-05, momentum=0.1, affine=True)\n",
      "  (conv2): Conv2d(16, 32, kernel_size=(5, 5), stride=(2, 2))\n",
      "  (bn2): BatchNorm2d(32, eps=1e-05, momentum=0.1, affine=True)\n",
      "  (conv3): Conv2d(32, 32, kernel_size=(5, 5), stride=(2, 2))\n",
      "  (bn3): BatchNorm2d(32, eps=1e-05, momentum=0.1, affine=True)\n",
      "  (head): Linear(in_features=800, out_features=5, bias=True)\n",
      ")\n",
      "ipdb> model(state_batch)\n",
      "Variable containing:\n",
      " 0.0776  0.3304 -0.1065  0.2099 -0.2627\n",
      " 0.1395  0.2011 -0.0419  0.5259 -0.0258\n",
      "-0.2382  0.3012 -0.2032  0.3196  0.0980\n",
      "-0.2890  0.2175  0.0100 -0.3407 -0.0312\n",
      "-0.0234 -0.0399 -0.0160 -0.0147  0.0434\n",
      "-0.2582  0.0164 -0.2403  0.0756 -0.1225\n",
      "-0.0499 -0.0436  0.0518 -0.0279  0.0143\n",
      " 0.0979  0.2239  0.0466  0.3209  0.0352\n",
      " 0.2228 -0.0126  0.1002  0.4106  0.2947\n",
      "-0.0489  0.0590 -0.0668  0.0887  0.0823\n",
      " 0.0659  0.0863 -0.4461  0.0471  0.1495\n",
      "-0.1789  0.1751 -0.1774 -0.2602 -0.1641\n",
      " 0.2144  0.1442 -0.0343  0.3615  0.1797\n",
      "-0.2715  0.2641 -0.1410  0.1424 -0.3553\n",
      "-0.0929  0.0040 -0.0015 -0.0931 -0.0655\n",
      " 0.0373  0.1669 -0.2788  0.0449 -0.1583\n",
      "-0.2435  0.0632 -0.3402 -0.0116 -0.2813\n",
      "-0.1787 -0.0672 -0.4310  0.0091 -0.2202\n",
      "-0.0182  0.1100 -0.3173  0.0801  0.0569\n",
      "-0.2455  0.2352 -0.2904  0.1523  0.3134\n",
      "-0.1738 -0.0361 -0.0413 -0.2076 -0.2887\n",
      " 0.0902  0.1564  0.0235 -0.0155  0.0217\n",
      "-0.1886  0.2364 -0.2545 -0.0759  0.0037\n",
      " 0.4515  0.2266  0.3456  0.1271  0.1675\n",
      "-0.1465  0.0341 -0.0988 -0.0014  0.0044\n",
      " 0.0325 -0.0862  0.0987  0.1870 -0.0060\n",
      " 0.0059  0.0463 -0.1038 -0.0123 -0.0585\n",
      "-0.0546 -0.0328 -0.0603 -0.0064 -0.0273\n",
      " 0.1643  0.0262  0.0114  0.2869 -0.4730\n",
      " 0.2290  0.2791 -0.0471  0.3442  0.1035\n",
      " 0.0903  0.1557  0.0716  0.1744 -0.1004\n",
      "-0.0535  0.6925 -0.4194  0.5415 -0.2333\n",
      "-0.1735  0.1314 -0.0252  0.0306 -0.0697\n",
      " 0.4040 -0.1605  0.3041  0.5190 -0.0402\n",
      "-0.0663 -0.0807 -0.2096  0.0310 -0.1899\n",
      " 0.0620 -0.2073  0.1981  0.4163 -0.6029\n",
      "-0.0921  0.1013 -0.2171  0.3303 -0.0133\n",
      " 0.0307  0.0972 -0.1750 -0.1699 -0.0386\n",
      "-0.1310  0.0078 -0.3056  0.1356 -0.1683\n",
      "-0.2637 -0.1222 -0.1562 -0.0181 -0.0150\n",
      "-0.0686 -0.1379 -0.2316  0.1208 -0.2278\n",
      "-0.0491 -0.0566 -0.1376 -0.0994  0.0010\n",
      "-0.0943 -0.0004 -0.0680 -0.0783  0.1192\n",
      "-0.0711 -0.0549 -0.1504 -0.0654 -0.1884\n",
      " 0.0584  0.1206 -0.0972  0.0451 -0.0346\n",
      " 0.2693  0.0861  0.0981  0.4720 -0.2231\n",
      " 0.3134  0.3792 -0.1377  0.5967  0.1170\n",
      " 0.1800  0.0583 -0.7059  0.1421 -0.2257\n",
      "-0.0876  0.0222 -0.0984 -0.0301 -0.1204\n",
      "-0.1216 -0.0045 -0.0791  0.0982  0.0686\n",
      " 0.0452  0.0927 -0.1068 -0.0856  0.0218\n",
      "-0.0588  0.1640 -0.0537  0.1082 -0.0432\n",
      "-0.0641 -0.0310 -0.0638  0.0389 -0.0551\n",
      "-0.1254  0.0011 -0.0159 -0.1346  0.0956\n",
      " 0.0026  0.0650 -0.2045 -0.1594 -0.0803\n",
      "-0.1410  0.1216 -0.1071  0.1845 -0.1457\n",
      " 0.3481 -0.0513  0.4314  0.1981  0.2159\n",
      " 0.4709  0.4903  0.2795  0.4369  0.0411\n",
      "-0.0014  0.0816  0.1042  0.1582 -0.1345\n",
      " 0.1137  0.0972 -0.0669  0.0292  0.1801\n",
      " 0.1721  0.1770  0.1005  0.4049  0.0548\n",
      "-0.0646  0.0859 -0.1839 -0.0401 -0.0973\n",
      " 0.0719 -0.0344  0.1160  0.0739 -0.1228\n",
      "-0.2597  0.0868 -0.3191  0.0866 -0.1849\n",
      "[torch.cuda.FloatTensor of size 64x5 (GPU 0)]\n",
      "\n",
      "ipdb> action_batch\n",
      "Variable containing:\n",
      "    1\n",
      "    0\n",
      "    1\n",
      "    0\n",
      "    0\n",
      "    0\n",
      "    0\n",
      "    1\n",
      "    1\n",
      "    0\n",
      "    1\n",
      "    0\n",
      "    0\n",
      "    1\n",
      "    1\n",
      "    1\n",
      "    1\n",
      "    0\n",
      "    1\n",
      "    0\n",
      "    1\n",
      "    1\n",
      "    1\n",
      "    1\n",
      "    1\n",
      "    0\n",
      "    0\n",
      "    0\n",
      "    0\n",
      "    3\n",
      "    3\n",
      "    1\n",
      "    1\n",
      "    3\n",
      "    0\n",
      "    3\n",
      "    1\n",
      "    1\n",
      "    0\n",
      "    1\n",
      "    1\n",
      "    0\n",
      "    0\n",
      "    0\n",
      "    1\n",
      "    3\n",
      "    1\n",
      "    3\n",
      "    1\n",
      "    1\n",
      "    1\n",
      "    1\n",
      "    1\n",
      "    4\n",
      "    0\n",
      "    0\n",
      "    1\n",
      "    1\n",
      "    1\n",
      "    0\n",
      "    1\n",
      "    1\n",
      "    2\n",
      "    0\n",
      "[torch.cuda.LongTensor of size 64x1 (GPU 0)]\n",
      "\n"
     ]
    }
   ],
   "source": [
    "# main\n",
    "from IPython.core.debugger import Tracer\n",
    "\n",
    "plot_every = 10\n",
    "print_every = 10\n",
    "num_episodes = 50\n",
    "for i_episode in range(num_episodes):\n",
    "    # Initialize the environment and state\n",
    "    # get initial observation\n",
    "    init_obs = env.reset()\n",
    "    current_screen = get_screen(init_obs)\n",
    "    state = current_screen\n",
    "    current_reward = 0\n",
    "    food_obtained = 0\n",
    "#     frame_stack = state\n",
    "    for t in count():\n",
    "        # Select and perform an action\n",
    "        action = select_action(state)\n",
    "        # Tracer()()\n",
    "        \n",
    "#         stack_reward = 0\n",
    "        \n",
    "#         while (frame_stack.shape[0] != 4) :\n",
    "        next_obs, reward, done, _ = env.step(action[0, 0])\n",
    "\n",
    "        if reward == 1:\n",
    "            food_obtained += 1\n",
    "            print(\"food obtained, now eaten %d foods\" % food_obtained)\n",
    "            reward = 1000\n",
    "        elif reward == 0:    \n",
    "            # give a negative reward for each step taken\n",
    "            reward = -1\n",
    "        elif reward == -5:\n",
    "            print('crashed')\n",
    "            # hits a wall\n",
    "            reward = -500\n",
    "\n",
    "        # update current total reward\n",
    "        current_reward += reward\n",
    "#             stack_reward += reward\n",
    "\n",
    "         # Observe new state\n",
    "        last_screen = current_screen\n",
    "        current_screen = get_screen(next_obs)\n",
    "        if not done:\n",
    "            next_state = current_screen - last_screen\n",
    "        else:\n",
    "            next_state = None\n",
    "            \n",
    "            # concatenate frames\n",
    "#             frame_stack = torch.cat((frame_stack, next_state), 0)\n",
    "        \n",
    "        reward = Tensor([reward])\n",
    "            \n",
    "#         Tracer()()\n",
    "        # Store the transition in memory\n",
    "        memory.push(state, action, next_state, reward)\n",
    "\n",
    "        # Move to the next state\n",
    "        state = next_state\n",
    "\n",
    "        # Perform one step of the optimization (on the target network)\n",
    "        optimize_model()\n",
    "        if done:\n",
    "            episode_durations.append(t + 1)\n",
    "            episode_rewards.append(current_reward)\n",
    "            epi_food_obtained.append(food_obtained)\n",
    "            if i_episode % print_every == 0:\n",
    "                print(\"Running episode #%d; episode duration is %d steps\" % (len(episode_durations), t+1))\n",
    "            if i_episode % plot_every == 0:\n",
    "                plot_durations()\n",
    "            break\n",
    "\n",
    "print('Complete')\n"
   ]
  },
  {
   "cell_type": "code",
   "execution_count": 29,
   "metadata": {},
   "outputs": [
    {
     "name": "stdout",
     "output_type": "stream",
     "text": [
      "\u001b[33mWARN: gym.spaces.Box autodetected dtype as <class 'numpy.uint8'>. Please provide explicit dtype.\u001b[0m\n"
     ]
    }
   ],
   "source": [
    "env.close()\n",
    "# create gym env\n",
    "env = gym.make('Snake-v0')\n",
    "outdir='/tmp/random-agent-results'\n",
    "env = Monitor(env, directory=outdir, force=True)\n",
    "env.seed(1234)"
   ]
  },
  {
   "cell_type": "code",
   "execution_count": null,
   "metadata": {
    "collapsed": true
   },
   "outputs": [],
   "source": [
    "class Agent(object):\n",
    "    def __init__(self, action_space):\n",
    "        self.action_space = action_space\n",
    "\n",
    "    def random_act(self, observation, reward, done):\n",
    "        return self.action_space.sample()\n",
    "    \n",
    "    # 0 : nothing, 1: left, 2: right\n",
    "    def fix_act(self):\n",
    "        return 1\n"
   ]
  },
  {
   "cell_type": "code",
   "execution_count": null,
   "metadata": {
    "collapsed": true
   },
   "outputs": [],
   "source": [
    "len(memory.memory)"
   ]
  },
  {
   "cell_type": "code",
   "execution_count": null,
   "metadata": {
    "collapsed": true
   },
   "outputs": [],
   "source": [
    "env = gym.make('Snake-v0')\n",
    "outdir='/tmp/random-agent-results'\n",
    "env = Monitor(env, directory=outdir, force=True)\n",
    "env.seed(1234)\n",
    "agent = Agent(env.action_space)\n"
   ]
  },
  {
   "cell_type": "code",
   "execution_count": null,
   "metadata": {
    "collapsed": true
   },
   "outputs": [],
   "source": [
    "reward = 0\n",
    "done=False\n"
   ]
  },
  {
   "cell_type": "code",
   "execution_count": null,
   "metadata": {
    "collapsed": true
   },
   "outputs": [],
   "source": [
    "ob = env.reset()\n",
    "done = False\n",
    "screen_caps = []\n",
    "rewards = []\n",
    "while not done: \n",
    "    action = agent.fix_act()\n",
    "    ob, reward, done, _ = env.step(0)\n",
    "    rewards.append(reward)\n",
    "    screen_caps.append(ob)"
   ]
  },
  {
   "cell_type": "code",
   "execution_count": null,
   "metadata": {
    "collapsed": true
   },
   "outputs": [],
   "source": [
    "plt.imshow(screen_caps[0])"
   ]
  },
  {
   "cell_type": "code",
   "execution_count": null,
   "metadata": {
    "collapsed": true
   },
   "outputs": [],
   "source": [
    "plt.imshow(screen_caps[-1])"
   ]
  },
  {
   "cell_type": "code",
   "execution_count": null,
   "metadata": {
    "collapsed": true
   },
   "outputs": [],
   "source": [
    "print(ob.shape)"
   ]
  },
  {
   "cell_type": "code",
   "execution_count": null,
   "metadata": {
    "collapsed": true
   },
   "outputs": [],
   "source": [
    "PATH = 'models/'"
   ]
  },
  {
   "cell_type": "code",
   "execution_count": null,
   "metadata": {
    "collapsed": true
   },
   "outputs": [],
   "source": [
    "def save_model(model, path):\n",
    "    model.float()\n",
    "    torch.save(model.state_dict(), path)"
   ]
  },
  {
   "cell_type": "code",
   "execution_count": null,
   "metadata": {
    "collapsed": true
   },
   "outputs": [],
   "source": [
    "save_model(model, PATH+'dqn_reward1000.pth')"
   ]
  },
  {
   "cell_type": "code",
   "execution_count": null,
   "metadata": {
    "collapsed": true
   },
   "outputs": [],
   "source": [
    "def load_model(model, path):\n",
    "    model.load_state_dict(torch.load(path))"
   ]
  },
  {
   "cell_type": "code",
   "execution_count": null,
   "metadata": {
    "collapsed": true
   },
   "outputs": [],
   "source": [
    "load_model(model, PATH+'dqn.pth')"
   ]
  },
  {
   "cell_type": "code",
   "execution_count": null,
   "metadata": {
    "collapsed": true
   },
   "outputs": [],
   "source": [
    "for parameter in model.parameters():\n",
    "    print(parameter)"
   ]
  },
  {
   "cell_type": "code",
   "execution_count": null,
   "metadata": {
    "collapsed": true
   },
   "outputs": [],
   "source": [
    "def displayResults(episodeNumber, displayInterval):\n",
    "    transform_to_img = T.Compose([T.ToPILImage()])\n",
    "    for e in range(len(episode_screens[episodeNumber-1])):\n",
    "        if e % displayInterval == 0:\n",
    "            plt.figure()\n",
    "            plt.imshow(transform_to_img(episode_screens[episodeNumber-1][e].cpu()))"
   ]
  },
  {
   "cell_type": "code",
   "execution_count": null,
   "metadata": {
    "collapsed": true
   },
   "outputs": [],
   "source": []
  }
 ],
 "metadata": {
  "kernelspec": {
   "display_name": "Python 3",
   "language": "python",
   "name": "python3"
  },
  "language_info": {
   "codemirror_mode": {
    "name": "ipython",
    "version": 3
   },
   "file_extension": ".py",
   "mimetype": "text/x-python",
   "name": "python",
   "nbconvert_exporter": "python",
   "pygments_lexer": "ipython3",
   "version": "3.5.4"
  }
 },
 "nbformat": 4,
 "nbformat_minor": 2
}
